{
 "cells": [
  {
   "cell_type": "markdown",
   "metadata": {
    "collapsed": true,
    "pycharm": {
     "name": "#%% md\n"
    }
   },
   "source": [
    " # Python Data Science Excercise\n",
    " ## Part 3"
   ]
  },
  {
   "cell_type": "markdown",
   "source": [
    "Import panda ,numpy and mathplotlib"
   ],
   "metadata": {
    "collapsed": false
   }
  },
  {
   "cell_type": "code",
   "execution_count": 15,
   "outputs": [],
   "source": [
    "%matplotlib inline\n",
    "import pandas as pd\n",
    "import numpy as np\n",
    "import matplotlib.pyplot as plt\n"
   ],
   "metadata": {
    "collapsed": false,
    "pycharm": {
     "name": "#%%\n"
    }
   }
  },
  {
   "cell_type": "markdown",
   "source": [
    "Load countries.csv"
   ],
   "metadata": {
    "collapsed": false
   }
  },
  {
   "cell_type": "code",
   "execution_count": 16,
   "outputs": [
    {
     "data": {
      "text/plain": "       Name     People     Area   BIP Currency\n0   Germany   82521653   357385  3466      EUR\n1     Japan  126045000   377835  4938      YEN\n2    Canada   36503097  9984670  1529      CAD\n3     Italy   60501718   301338  1850      EUR\n4  Brazilia  208360000  8515770  1798     REAL",
      "text/html": "<div>\n<style scoped>\n    .dataframe tbody tr th:only-of-type {\n        vertical-align: middle;\n    }\n\n    .dataframe tbody tr th {\n        vertical-align: top;\n    }\n\n    .dataframe thead th {\n        text-align: right;\n    }\n</style>\n<table border=\"1\" class=\"dataframe\">\n  <thead>\n    <tr style=\"text-align: right;\">\n      <th></th>\n      <th>Name</th>\n      <th>People</th>\n      <th>Area</th>\n      <th>BIP</th>\n      <th>Currency</th>\n    </tr>\n  </thead>\n  <tbody>\n    <tr>\n      <th>0</th>\n      <td>Germany</td>\n      <td>82521653</td>\n      <td>357385</td>\n      <td>3466</td>\n      <td>EUR</td>\n    </tr>\n    <tr>\n      <th>1</th>\n      <td>Japan</td>\n      <td>126045000</td>\n      <td>377835</td>\n      <td>4938</td>\n      <td>YEN</td>\n    </tr>\n    <tr>\n      <th>2</th>\n      <td>Canada</td>\n      <td>36503097</td>\n      <td>9984670</td>\n      <td>1529</td>\n      <td>CAD</td>\n    </tr>\n    <tr>\n      <th>3</th>\n      <td>Italy</td>\n      <td>60501718</td>\n      <td>301338</td>\n      <td>1850</td>\n      <td>EUR</td>\n    </tr>\n    <tr>\n      <th>4</th>\n      <td>Brazilia</td>\n      <td>208360000</td>\n      <td>8515770</td>\n      <td>1798</td>\n      <td>REAL</td>\n    </tr>\n  </tbody>\n</table>\n</div>"
     },
     "execution_count": 16,
     "metadata": {},
     "output_type": "execute_result"
    }
   ],
   "source": [
    "url = \"https://raw.githubusercontent.com/edlich/eternalrepo/master/DS-WAHLFACH/countries.csv\"\n",
    "df_countries = pd.read_csv(url)\n",
    "df_countries\n"
   ],
   "metadata": {
    "collapsed": false,
    "pycharm": {
     "name": "#%%\n"
    }
   }
  },
  {
   "cell_type": "markdown",
   "source": [
    "Display some basic information and some basic statistical info"
   ],
   "metadata": {
    "collapsed": false
   }
  },
  {
   "cell_type": "code",
   "execution_count": 76,
   "outputs": [
    {
     "name": "stdout",
     "output_type": "stream",
     "text": [
      "<class 'pandas.core.frame.DataFrame'>\n",
      "Int64Index: 5 entries, 4 to 1\n",
      "Data columns (total 5 columns):\n",
      " #   Column    Non-Null Count  Dtype \n",
      "---  ------    --------------  ----- \n",
      " 0   Name      5 non-null      object\n",
      " 1   People    5 non-null      int64 \n",
      " 2   Area      5 non-null      int64 \n",
      " 3   Bip       5 non-null      int64 \n",
      " 4   Currency  5 non-null      object\n",
      "dtypes: int64(3), object(2)\n",
      "memory usage: 400.0+ bytes\n",
      "---------------------------------------------------------------\n"
     ]
    },
    {
     "data": {
      "text/plain": "             People          Area         Bip\ncount  5.000000e+00  5.000000e+00     5.00000\nmean   1.027863e+08  3.907400e+06  2716.20000\nstd    6.759970e+07  4.904957e+06  1457.86083\nmin    3.650310e+07  3.013380e+05  1529.00000\n25%    6.050172e+07  3.573850e+05  1798.00000\n50%    8.252165e+07  3.778350e+05  1850.00000\n75%    1.260450e+08  8.515770e+06  3466.00000\nmax    2.083600e+08  9.984670e+06  4938.00000",
      "text/html": "<div>\n<style scoped>\n    .dataframe tbody tr th:only-of-type {\n        vertical-align: middle;\n    }\n\n    .dataframe tbody tr th {\n        vertical-align: top;\n    }\n\n    .dataframe thead th {\n        text-align: right;\n    }\n</style>\n<table border=\"1\" class=\"dataframe\">\n  <thead>\n    <tr style=\"text-align: right;\">\n      <th></th>\n      <th>People</th>\n      <th>Area</th>\n      <th>Bip</th>\n    </tr>\n  </thead>\n  <tbody>\n    <tr>\n      <th>count</th>\n      <td>5.000000e+00</td>\n      <td>5.000000e+00</td>\n      <td>5.00000</td>\n    </tr>\n    <tr>\n      <th>mean</th>\n      <td>1.027863e+08</td>\n      <td>3.907400e+06</td>\n      <td>2716.20000</td>\n    </tr>\n    <tr>\n      <th>std</th>\n      <td>6.759970e+07</td>\n      <td>4.904957e+06</td>\n      <td>1457.86083</td>\n    </tr>\n    <tr>\n      <th>min</th>\n      <td>3.650310e+07</td>\n      <td>3.013380e+05</td>\n      <td>1529.00000</td>\n    </tr>\n    <tr>\n      <th>25%</th>\n      <td>6.050172e+07</td>\n      <td>3.573850e+05</td>\n      <td>1798.00000</td>\n    </tr>\n    <tr>\n      <th>50%</th>\n      <td>8.252165e+07</td>\n      <td>3.778350e+05</td>\n      <td>1850.00000</td>\n    </tr>\n    <tr>\n      <th>75%</th>\n      <td>1.260450e+08</td>\n      <td>8.515770e+06</td>\n      <td>3466.00000</td>\n    </tr>\n    <tr>\n      <th>max</th>\n      <td>2.083600e+08</td>\n      <td>9.984670e+06</td>\n      <td>4938.00000</td>\n    </tr>\n  </tbody>\n</table>\n</div>"
     },
     "execution_count": 76,
     "metadata": {},
     "output_type": "execute_result"
    }
   ],
   "source": [
    "df_countries.info()\n",
    "print(\"---------------------------------------------------------------\")\n",
    "df_countries.describe()"
   ],
   "metadata": {
    "collapsed": false,
    "pycharm": {
     "name": "#%%\n"
    }
   }
  },
  {
   "cell_type": "markdown",
   "source": [
    "Show the last 4 rows of the data frame"
   ],
   "metadata": {
    "collapsed": false
   }
  },
  {
   "cell_type": "code",
   "execution_count": 17,
   "outputs": [
    {
     "data": {
      "text/plain": "       Name     People     Area   BIP Currency\n1     Japan  126045000   377835  4938      YEN\n2    Canada   36503097  9984670  1529      CAD\n3     Italy   60501718   301338  1850      EUR\n4  Brazilia  208360000  8515770  1798     REAL",
      "text/html": "<div>\n<style scoped>\n    .dataframe tbody tr th:only-of-type {\n        vertical-align: middle;\n    }\n\n    .dataframe tbody tr th {\n        vertical-align: top;\n    }\n\n    .dataframe thead th {\n        text-align: right;\n    }\n</style>\n<table border=\"1\" class=\"dataframe\">\n  <thead>\n    <tr style=\"text-align: right;\">\n      <th></th>\n      <th>Name</th>\n      <th>People</th>\n      <th>Area</th>\n      <th>BIP</th>\n      <th>Currency</th>\n    </tr>\n  </thead>\n  <tbody>\n    <tr>\n      <th>1</th>\n      <td>Japan</td>\n      <td>126045000</td>\n      <td>377835</td>\n      <td>4938</td>\n      <td>YEN</td>\n    </tr>\n    <tr>\n      <th>2</th>\n      <td>Canada</td>\n      <td>36503097</td>\n      <td>9984670</td>\n      <td>1529</td>\n      <td>CAD</td>\n    </tr>\n    <tr>\n      <th>3</th>\n      <td>Italy</td>\n      <td>60501718</td>\n      <td>301338</td>\n      <td>1850</td>\n      <td>EUR</td>\n    </tr>\n    <tr>\n      <th>4</th>\n      <td>Brazilia</td>\n      <td>208360000</td>\n      <td>8515770</td>\n      <td>1798</td>\n      <td>REAL</td>\n    </tr>\n  </tbody>\n</table>\n</div>"
     },
     "execution_count": 17,
     "metadata": {},
     "output_type": "execute_result"
    }
   ],
   "source": [
    "df_countries.tail(4)"
   ],
   "metadata": {
    "collapsed": false,
    "pycharm": {
     "name": "#%%\n"
    }
   }
  },
  {
   "cell_type": "markdown",
   "source": [
    "Show all the row of countries who have the EURO"
   ],
   "metadata": {
    "collapsed": false
   }
  },
  {
   "cell_type": "code",
   "execution_count": 18,
   "outputs": [
    {
     "data": {
      "text/plain": "      Name    People    Area   BIP Currency\n0  Germany  82521653  357385  3466      EUR\n3    Italy  60501718  301338  1850      EUR",
      "text/html": "<div>\n<style scoped>\n    .dataframe tbody tr th:only-of-type {\n        vertical-align: middle;\n    }\n\n    .dataframe tbody tr th {\n        vertical-align: top;\n    }\n\n    .dataframe thead th {\n        text-align: right;\n    }\n</style>\n<table border=\"1\" class=\"dataframe\">\n  <thead>\n    <tr style=\"text-align: right;\">\n      <th></th>\n      <th>Name</th>\n      <th>People</th>\n      <th>Area</th>\n      <th>BIP</th>\n      <th>Currency</th>\n    </tr>\n  </thead>\n  <tbody>\n    <tr>\n      <th>0</th>\n      <td>Germany</td>\n      <td>82521653</td>\n      <td>357385</td>\n      <td>3466</td>\n      <td>EUR</td>\n    </tr>\n    <tr>\n      <th>3</th>\n      <td>Italy</td>\n      <td>60501718</td>\n      <td>301338</td>\n      <td>1850</td>\n      <td>EUR</td>\n    </tr>\n  </tbody>\n</table>\n</div>"
     },
     "execution_count": 18,
     "metadata": {},
     "output_type": "execute_result"
    }
   ],
   "source": [
    "df_countries[df_countries['Currency']=='EUR']"
   ],
   "metadata": {
    "collapsed": false,
    "pycharm": {
     "name": "#%%\n"
    }
   }
  },
  {
   "cell_type": "markdown",
   "source": [
    "Show only name and Currency in a new data frame"
   ],
   "metadata": {
    "collapsed": false
   }
  },
  {
   "cell_type": "code",
   "execution_count": 20,
   "outputs": [
    {
     "data": {
      "text/plain": "       Name Currency\n0   Germany      EUR\n1     Japan      YEN\n2    Canada      CAD\n3     Italy      EUR\n4  Brazilia     REAL",
      "text/html": "<div>\n<style scoped>\n    .dataframe tbody tr th:only-of-type {\n        vertical-align: middle;\n    }\n\n    .dataframe tbody tr th {\n        vertical-align: top;\n    }\n\n    .dataframe thead th {\n        text-align: right;\n    }\n</style>\n<table border=\"1\" class=\"dataframe\">\n  <thead>\n    <tr style=\"text-align: right;\">\n      <th></th>\n      <th>Name</th>\n      <th>Currency</th>\n    </tr>\n  </thead>\n  <tbody>\n    <tr>\n      <th>0</th>\n      <td>Germany</td>\n      <td>EUR</td>\n    </tr>\n    <tr>\n      <th>1</th>\n      <td>Japan</td>\n      <td>YEN</td>\n    </tr>\n    <tr>\n      <th>2</th>\n      <td>Canada</td>\n      <td>CAD</td>\n    </tr>\n    <tr>\n      <th>3</th>\n      <td>Italy</td>\n      <td>EUR</td>\n    </tr>\n    <tr>\n      <th>4</th>\n      <td>Brazilia</td>\n      <td>REAL</td>\n    </tr>\n  </tbody>\n</table>\n</div>"
     },
     "execution_count": 20,
     "metadata": {},
     "output_type": "execute_result"
    }
   ],
   "source": [
    "df_c2 = df_countries.drop(['People', 'Area', 'BIP'], axis=1)\n",
    "df_c2"
   ],
   "metadata": {
    "collapsed": false,
    "pycharm": {
     "name": "#%%\n"
    }
   }
  },
  {
   "cell_type": "markdown",
   "source": [
    "Show only the rows/countries that have more than 2000 BIP (it is in Milliarden USD Bruttoinlandsprodukt)"
   ],
   "metadata": {
    "collapsed": false
   }
  },
  {
   "cell_type": "code",
   "execution_count": 21,
   "outputs": [
    {
     "data": {
      "text/plain": "      Name     People    Area   BIP Currency\n0  Germany   82521653  357385  3466      EUR\n1    Japan  126045000  377835  4938      YEN",
      "text/html": "<div>\n<style scoped>\n    .dataframe tbody tr th:only-of-type {\n        vertical-align: middle;\n    }\n\n    .dataframe tbody tr th {\n        vertical-align: top;\n    }\n\n    .dataframe thead th {\n        text-align: right;\n    }\n</style>\n<table border=\"1\" class=\"dataframe\">\n  <thead>\n    <tr style=\"text-align: right;\">\n      <th></th>\n      <th>Name</th>\n      <th>People</th>\n      <th>Area</th>\n      <th>BIP</th>\n      <th>Currency</th>\n    </tr>\n  </thead>\n  <tbody>\n    <tr>\n      <th>0</th>\n      <td>Germany</td>\n      <td>82521653</td>\n      <td>357385</td>\n      <td>3466</td>\n      <td>EUR</td>\n    </tr>\n    <tr>\n      <th>1</th>\n      <td>Japan</td>\n      <td>126045000</td>\n      <td>377835</td>\n      <td>4938</td>\n      <td>YEN</td>\n    </tr>\n  </tbody>\n</table>\n</div>"
     },
     "execution_count": 21,
     "metadata": {},
     "output_type": "execute_result"
    }
   ],
   "source": [
    "df_countries[df_countries['BIP']>2000]"
   ],
   "metadata": {
    "collapsed": false,
    "pycharm": {
     "name": "#%%\n"
    }
   }
  },
  {
   "cell_type": "markdown",
   "source": [
    "Select all countries where with inhabitants between 50 and 150 Mio"
   ],
   "metadata": {
    "collapsed": false
   }
  },
  {
   "cell_type": "code",
   "execution_count": 23,
   "outputs": [
    {
     "data": {
      "text/plain": "      Name     People    Area   BIP Currency\n0  Germany   82521653  357385  3466      EUR\n1    Japan  126045000  377835  4938      YEN\n3    Italy   60501718  301338  1850      EUR",
      "text/html": "<div>\n<style scoped>\n    .dataframe tbody tr th:only-of-type {\n        vertical-align: middle;\n    }\n\n    .dataframe tbody tr th {\n        vertical-align: top;\n    }\n\n    .dataframe thead th {\n        text-align: right;\n    }\n</style>\n<table border=\"1\" class=\"dataframe\">\n  <thead>\n    <tr style=\"text-align: right;\">\n      <th></th>\n      <th>Name</th>\n      <th>People</th>\n      <th>Area</th>\n      <th>BIP</th>\n      <th>Currency</th>\n    </tr>\n  </thead>\n  <tbody>\n    <tr>\n      <th>0</th>\n      <td>Germany</td>\n      <td>82521653</td>\n      <td>357385</td>\n      <td>3466</td>\n      <td>EUR</td>\n    </tr>\n    <tr>\n      <th>1</th>\n      <td>Japan</td>\n      <td>126045000</td>\n      <td>377835</td>\n      <td>4938</td>\n      <td>YEN</td>\n    </tr>\n    <tr>\n      <th>3</th>\n      <td>Italy</td>\n      <td>60501718</td>\n      <td>301338</td>\n      <td>1850</td>\n      <td>EUR</td>\n    </tr>\n  </tbody>\n</table>\n</div>"
     },
     "execution_count": 23,
     "metadata": {},
     "output_type": "execute_result"
    }
   ],
   "source": [
    "df_countries[(50000000<df_countries['People']) & (df_countries['People']<150000000)]"
   ],
   "metadata": {
    "collapsed": false,
    "pycharm": {
     "name": "#%%\n"
    }
   }
  },
  {
   "cell_type": "markdown",
   "source": [
    "Change BIP to Bip"
   ],
   "metadata": {
    "collapsed": false
   }
  },
  {
   "cell_type": "code",
   "execution_count": 25,
   "outputs": [
    {
     "data": {
      "text/plain": "       Name     People     Area   Bip Currency\n0   Germany   82521653   357385  3466      EUR\n1     Japan  126045000   377835  4938      YEN\n2    Canada   36503097  9984670  1529      CAD\n3     Italy   60501718   301338  1850      EUR\n4  Brazilia  208360000  8515770  1798     REAL",
      "text/html": "<div>\n<style scoped>\n    .dataframe tbody tr th:only-of-type {\n        vertical-align: middle;\n    }\n\n    .dataframe tbody tr th {\n        vertical-align: top;\n    }\n\n    .dataframe thead th {\n        text-align: right;\n    }\n</style>\n<table border=\"1\" class=\"dataframe\">\n  <thead>\n    <tr style=\"text-align: right;\">\n      <th></th>\n      <th>Name</th>\n      <th>People</th>\n      <th>Area</th>\n      <th>Bip</th>\n      <th>Currency</th>\n    </tr>\n  </thead>\n  <tbody>\n    <tr>\n      <th>0</th>\n      <td>Germany</td>\n      <td>82521653</td>\n      <td>357385</td>\n      <td>3466</td>\n      <td>EUR</td>\n    </tr>\n    <tr>\n      <th>1</th>\n      <td>Japan</td>\n      <td>126045000</td>\n      <td>377835</td>\n      <td>4938</td>\n      <td>YEN</td>\n    </tr>\n    <tr>\n      <th>2</th>\n      <td>Canada</td>\n      <td>36503097</td>\n      <td>9984670</td>\n      <td>1529</td>\n      <td>CAD</td>\n    </tr>\n    <tr>\n      <th>3</th>\n      <td>Italy</td>\n      <td>60501718</td>\n      <td>301338</td>\n      <td>1850</td>\n      <td>EUR</td>\n    </tr>\n    <tr>\n      <th>4</th>\n      <td>Brazilia</td>\n      <td>208360000</td>\n      <td>8515770</td>\n      <td>1798</td>\n      <td>REAL</td>\n    </tr>\n  </tbody>\n</table>\n</div>"
     },
     "execution_count": 25,
     "metadata": {},
     "output_type": "execute_result"
    }
   ],
   "source": [
    "df_countries = df_countries.rename(columns= {'BIP':'Bip'})\n",
    "df_countries"
   ],
   "metadata": {
    "collapsed": false,
    "pycharm": {
     "name": "#%%\n"
    }
   }
  },
  {
   "cell_type": "markdown",
   "source": [
    "Calculate the Bip sum"
   ],
   "metadata": {
    "collapsed": false
   }
  },
  {
   "cell_type": "code",
   "execution_count": 32,
   "outputs": [
    {
     "name": "stdout",
     "output_type": "stream",
     "text": [
      "       Name     People     Area   Bip Currency\n",
      "0   Germany   82521653   357385  3466      EUR\n",
      "1     Japan  126045000   377835  4938      YEN\n",
      "2    Canada   36503097  9984670  1529      CAD\n",
      "3     Italy   60501718   301338  1850      EUR\n",
      "4  Brazilia  208360000  8515770  1798     REAL\n"
     ]
    },
    {
     "data": {
      "text/plain": "13581"
     },
     "execution_count": 32,
     "metadata": {},
     "output_type": "execute_result"
    }
   ],
   "source": [
    "bip_sum = df_countries['Bip'].sum()\n",
    "bip_sum"
   ],
   "metadata": {
    "collapsed": false,
    "pycharm": {
     "name": "#%%\n"
    }
   }
  },
  {
   "cell_type": "markdown",
   "source": [
    "Calculate the average people of all countries"
   ],
   "metadata": {
    "collapsed": false
   }
  },
  {
   "cell_type": "code",
   "execution_count": 33,
   "outputs": [
    {
     "data": {
      "text/plain": "102786293.6"
     },
     "execution_count": 33,
     "metadata": {},
     "output_type": "execute_result"
    }
   ],
   "source": [
    "sum_people = df_countries['People'].sum()\n",
    "number_of_countries = len(df_countries)\n",
    "average_sum_people = sum_people / number_of_countries\n",
    "average_sum_people"
   ],
   "metadata": {
    "collapsed": false,
    "pycharm": {
     "name": "#%%\n"
    }
   }
  },
  {
   "cell_type": "markdown",
   "source": [
    "Sort by name alphabetically"
   ],
   "metadata": {
    "collapsed": false
   }
  },
  {
   "cell_type": "code",
   "execution_count": 34,
   "outputs": [
    {
     "data": {
      "text/plain": "       Name     People     Area   Bip Currency\n4  Brazilia  208360000  8515770  1798     REAL\n2    Canada   36503097  9984670  1529      CAD\n0   Germany   82521653   357385  3466      EUR\n3     Italy   60501718   301338  1850      EUR\n1     Japan  126045000   377835  4938      YEN",
      "text/html": "<div>\n<style scoped>\n    .dataframe tbody tr th:only-of-type {\n        vertical-align: middle;\n    }\n\n    .dataframe tbody tr th {\n        vertical-align: top;\n    }\n\n    .dataframe thead th {\n        text-align: right;\n    }\n</style>\n<table border=\"1\" class=\"dataframe\">\n  <thead>\n    <tr style=\"text-align: right;\">\n      <th></th>\n      <th>Name</th>\n      <th>People</th>\n      <th>Area</th>\n      <th>Bip</th>\n      <th>Currency</th>\n    </tr>\n  </thead>\n  <tbody>\n    <tr>\n      <th>4</th>\n      <td>Brazilia</td>\n      <td>208360000</td>\n      <td>8515770</td>\n      <td>1798</td>\n      <td>REAL</td>\n    </tr>\n    <tr>\n      <th>2</th>\n      <td>Canada</td>\n      <td>36503097</td>\n      <td>9984670</td>\n      <td>1529</td>\n      <td>CAD</td>\n    </tr>\n    <tr>\n      <th>0</th>\n      <td>Germany</td>\n      <td>82521653</td>\n      <td>357385</td>\n      <td>3466</td>\n      <td>EUR</td>\n    </tr>\n    <tr>\n      <th>3</th>\n      <td>Italy</td>\n      <td>60501718</td>\n      <td>301338</td>\n      <td>1850</td>\n      <td>EUR</td>\n    </tr>\n    <tr>\n      <th>1</th>\n      <td>Japan</td>\n      <td>126045000</td>\n      <td>377835</td>\n      <td>4938</td>\n      <td>YEN</td>\n    </tr>\n  </tbody>\n</table>\n</div>"
     },
     "execution_count": 34,
     "metadata": {},
     "output_type": "execute_result"
    }
   ],
   "source": [
    "df_countries = df_countries.sort_values('Name')\n",
    "df_countries"
   ],
   "metadata": {
    "collapsed": false,
    "pycharm": {
     "name": "#%%\n"
    }
   }
  },
  {
   "cell_type": "markdown",
   "source": [
    "Create a new data frame from the original where the area is changed as follows: all countries with > 1000000 get BIG and <= 1000000 get SMALL in the cell replaced!"
   ],
   "metadata": {
    "collapsed": false
   }
  },
  {
   "cell_type": "code",
   "execution_count": 81,
   "outputs": [
    {
     "name": "stdout",
     "output_type": "stream",
     "text": [
      "       Name     People     Area   Bip Currency\n",
      "4  Brazilia  208360000  8515770  1798     REAL\n",
      "2    Canada   36503097  9984670  1529      CAD\n",
      "0   Germany   82521653   357385  3466      EUR\n",
      "3     Italy   60501718   301338  1850      EUR\n",
      "1     Japan  126045000   377835  4938      YEN\n",
      "       Name     People    Area   Bip Currency\n",
      "4  Brazilia  208360000     BIG  1798     REAL\n",
      "2    Canada   36503097     BIG  1529      CAD\n",
      "0   Germany   82521653  357385  3466      EUR\n",
      "3     Italy   60501718  301338  1850      EUR\n",
      "1     Japan  126045000  377835  4938      YEN\n"
     ]
    }
   ],
   "source": [
    "df_c_change_area = df_countries.copy()\n",
    "print(df_c_change_area)\n",
    "df_c_change_area.loc[(df_c_change_area.Area > 1000000 ),'Area']='BIG'\n",
    "print(df_c_change_area)"
   ],
   "metadata": {
    "collapsed": false,
    "pycharm": {
     "name": "#%%\n"
    }
   }
  },
  {
   "cell_type": "code",
   "execution_count": 86,
   "outputs": [
    {
     "name": "stdout",
     "output_type": "stream",
     "text": [
      "       Name     People   Area   Bip Currency\n",
      "4  Brazilia  208360000    BIG  1798     REAL\n",
      "2    Canada   36503097    BIG  1529      CAD\n",
      "0   Germany   82521653  SMALL  3466      EUR\n",
      "3     Italy   60501718  SMALL  1850      EUR\n",
      "1     Japan  126045000  SMALL  4938      YEN\n"
     ]
    }
   ],
   "source": [
    "df_c_change_area.loc[(df_c_change_area.Area != 'BIG' ),'Area']='SMALL'\n",
    "\n",
    "print(df_c_change_area)"
   ],
   "metadata": {
    "collapsed": false,
    "pycharm": {
     "name": "#%%\n"
    }
   }
  },
  {
   "cell_type": "markdown",
   "source": [
    "\n",
    "\n"
   ],
   "metadata": {
    "collapsed": false
   }
  }
 ],
 "metadata": {
  "kernelspec": {
   "name": "python38364bitcondaefb26bb7c6fc42ada05cffadde411c01",
   "language": "python",
   "display_name": "Python 3.8.3 64-bit (conda)"
  },
  "language_info": {
   "codemirror_mode": {
    "name": "ipython",
    "version": 2
   },
   "file_extension": ".py",
   "mimetype": "text/x-python",
   "name": "python",
   "nbconvert_exporter": "python",
   "pygments_lexer": "ipython2",
   "version": "2.7.6"
  }
 },
 "nbformat": 4,
 "nbformat_minor": 0
}